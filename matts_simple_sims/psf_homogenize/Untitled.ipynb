{
 "cells": [
  {
   "cell_type": "code",
   "execution_count": null,
   "metadata": {},
   "outputs": [],
   "source": [
    "import numba\n",
    "import numpy as np\n",
    "import galsim\n",
    "import matplotlib.pyplot as plt\n",
    "import seaborn as sns\n",
    "\n",
    "%matplotlib notebook\n",
    "sns.set()\n",
    "\n",
    "SCALE = 0.25"
   ]
  },
  {
   "cell_type": "markdown",
   "metadata": {},
   "source": [
    "We define two equal sized objects on the left and the right of the image."
   ]
  },
  {
   "cell_type": "code",
   "execution_count": null,
   "metadata": {},
   "outputs": [],
   "source": [
    "obj = [galsim.Gaussian(fwhm=4).shift(-16, 0), galsim.Gaussian(fwhm=4).shift(16, 0)]"
   ]
  },
  {
   "cell_type": "code",
   "execution_count": null,
   "metadata": {},
   "outputs": [],
   "source": [
    "im = galsim.Sum(obj).drawImage(scale=SCALE, nx=320, ny=320)\n",
    "\n",
    "plt.figure()\n",
    "plt.imshow(im.array)\n",
    "plt.gca().grid(False)"
   ]
  },
  {
   "cell_type": "markdown",
   "metadata": {},
   "source": [
    "Here is what they look like with the variable PSF above."
   ]
  },
  {
   "cell_type": "code",
   "execution_count": null,
   "metadata": {},
   "outputs": [],
   "source": [
    "pobj = [\n",
    "    galsim.Convolve(obj[0], galsim.Gaussian(fwhm=0.95)),\n",
    "    galsim.Convolve(obj[1], galsim.Gaussian(fwhm=1.0))]"
   ]
  },
  {
   "cell_type": "code",
   "execution_count": null,
   "metadata": {},
   "outputs": [],
   "source": [
    "im = galsim.Sum(pobj).drawImage(scale=SCALE, nx=320, ny=320)\n",
    "\n",
    "plt.figure()\n",
    "plt.imshow(im.array)\n",
    "plt.gca().grid(False)"
   ]
  },
  {
   "cell_type": "markdown",
   "metadata": {},
   "source": [
    "This function gets the target kernel"
   ]
  },
  {
   "cell_type": "code",
   "execution_count": null,
   "metadata": {},
   "outputs": [],
   "source": [
    "if False:\n",
    "    nr = 111\n",
    "    nk = 7\n",
    "    sz = (nr - nk) // 2\n",
    "\n",
    "    gsp = galsim.GSParams(kvalue_accuracy=1e-300)\n",
    "    gs2 = galsim.Gaussian(fwhm=1)\n",
    "    gs1 = galsim.Gaussian(fwhm=0.95)\n",
    "\n",
    "    base_k = galsim.Convolve(gs2, galsim.Deconvolve(gs1, gsparams=gsp)).drawImage(\n",
    "            nx=nr, ny=nr, scale=SCALE, method='no_pixel')\n",
    "    base_k = base_k.array[sz:-sz, sz:-sz]\n",
    "    base_k = base_k / np.sum(base_k)\n",
    "\n",
    "    ident_k = galsim.Convolve(gs2, galsim.Deconvolve(gs2, gsparams=gsp)).drawImage(\n",
    "        nx=nr, ny=nr, scale=SCALE, method='no_pixel')\n",
    "    ident_k = ident_k.array[sz:-sz, sz:-sz]\n",
    "    ident_k = ident_k / np.sum(ident_k)\n",
    "else:\n",
    "    import scipy.fftpack\n",
    "    nr = 33\n",
    "    nk = 7\n",
    "    sz = (nr - nk) // 2\n",
    "    \n",
    "    gs2 = galsim.Gaussian(fwhm=1).drawImage(nx=nr, ny=nr, scale=SCALE).array\n",
    "    gs1 = galsim.Gaussian(fwhm=0.95).drawImage(nx=nr, ny=nr, scale=SCALE).array\n",
    "    fgs2 = scipy.fftpack.fft2(gs2)\n",
    "    fgs1 = scipy.fftpack.fft2(gs1)\n",
    "    \n",
    "    k = scipy.fftpack.fftshift(scipy.fftpack.ifft2(fgs2/fgs1).real)\n",
    "    k = k[sz:-sz, sz:-sz]\n",
    "    base_k = k / np.sum(k)\n",
    "    \n",
    "    base_k = _build_kernel(0.95)\n",
    "    base_k = base_k / np.sum(base_k)    \n",
    "\n",
    "    k = scipy.fftpack.fftshift(scipy.fftpack.ifft2(fgs2/fgs2).real)\n",
    "    k = k[sz:-sz, sz:-sz]\n",
    "    ident_k = k / np.sum(k)\n",
    "    \n",
    "\n",
    "def target_kernel(x, y):\n",
    "    if x >= 320/2:\n",
    "        return ident_k\n",
    "    else:\n",
    "        return base_k"
   ]
  },
  {
   "cell_type": "code",
   "execution_count": null,
   "metadata": {},
   "outputs": [],
   "source": [
    "k20 = target_kernel(20, 0)\n",
    "k60 = target_kernel(200, 0)\n",
    "\n",
    "fig, axs = plt.subplots(nrows=1, ncols=2, figsize=(6, 3))\n",
    "ax = axs[0]\n",
    "ax.imshow(k20)\n",
    "ax.grid(False)\n",
    "\n",
    "ax = axs[1]\n",
    "ax.imshow(k60)\n",
    "ax.grid(False)\n"
   ]
  },
  {
   "cell_type": "code",
   "execution_count": null,
   "metadata": {},
   "outputs": [],
   "source": [
    "import numba\n",
    "\n",
    "@numba.jit\n",
    "def _conv_kern_func(target_kernel, im):\n",
    "    im_new = np.zeros_like(im)\n",
    "    nk = target_kernel(0, 0).shape[0]\n",
    "    dk = (nk-1) //2\n",
    "    for i_new in range(im.shape[0]):\n",
    "        for j_new in range(im.shape[1]):\n",
    "            k = target_kernel(j_new, i_new)\n",
    "            \n",
    "            i_old_start = max(0, i_new-dk)\n",
    "            j_old_start = max(0, j_new-dk)\n",
    "            \n",
    "            i_old_end = min(i_new + dk + 1, im.shape[0])\n",
    "            j_old_end = min(j_new + dk + 1, im.shape[1])            \n",
    "\n",
    "            i_kern_start = max(0, dk-i_new)\n",
    "            j_kern_start = max(0, dk-j_new)\n",
    "\n",
    "            n_i_kern = i_old_end - i_old_start\n",
    "            n_j_kern = j_old_end - j_old_start\n",
    "            \n",
    "            _sum = 0.0\n",
    "            for _i in range(n_i_kern):\n",
    "                for _j in range(n_j_kern):\n",
    "                    _sum += im[i_old_start + _i, j_old_start + _j] * k[i_kern_start + _i, j_kern_start + _j]\n",
    "            im_new[i_new, j_new] = _sum\n",
    "    return im_new\n"
   ]
  },
  {
   "cell_type": "code",
   "execution_count": null,
   "metadata": {},
   "outputs": [],
   "source": [
    "im = galsim.Sum(pobj).drawImage(scale=SCALE, nx=320, ny=320).array\n",
    "im_new = _conv_kern_func(target_kernel, im)"
   ]
  },
  {
   "cell_type": "code",
   "execution_count": null,
   "metadata": {},
   "outputs": [],
   "source": [
    "ppobj = [\n",
    "    galsim.Convolve(obj[0], galsim.Gaussian(fwhm=1)),\n",
    "    galsim.Convolve(obj[1], galsim.Gaussian(fwhm=1))]\n",
    "\n",
    "imt = galsim.Sum(ppobj).drawImage(scale=SCALE, nx=320, ny=320).array\n",
    "\n",
    "fig, axs = plt.subplots(nrows=2, ncols=2, figsize=(8, 8))\n",
    "\n",
    "ax = axs[0, 0]\n",
    "ax.imshow(im)\n",
    "ax.grid(False)\n",
    "ax.set_title('old')\n",
    "\n",
    "ax = axs[0, 1]\n",
    "ax.imshow(im_new)\n",
    "ax.grid(False)\n",
    "ax.set_title('new')\n",
    "\n",
    "ax = axs[1, 0]\n",
    "sns.heatmap((im - imt) / imt.max(), square=True, ax=ax)\n",
    "ax.grid(False)\n",
    "ax.set_title('old - target')\n",
    "\n",
    "ax = axs[1, 1]\n",
    "sns.heatmap((im_new - imt) / imt.max(), square=True, ax=ax)\n",
    "ax.grid(False)\n",
    "ax.set_title('new - target')\n",
    "\n",
    "\n",
    "plt.tight_layout()"
   ]
  },
  {
   "cell_type": "code",
   "execution_count": null,
   "metadata": {},
   "outputs": [],
   "source": []
  },
  {
   "cell_type": "code",
   "execution_count": null,
   "metadata": {},
   "outputs": [],
   "source": []
  },
  {
   "cell_type": "code",
   "execution_count": null,
   "metadata": {},
   "outputs": [],
   "source": [
    "g = galsim.Gaussian(sigma=2)\n",
    "gsp = galsim.GSParams(kvalue_accuracy=1.e-7)\n",
    "f2 = galsim.Convolve(g, galsim.Deconvolve(g, gsparams=gsp))\n",
    "im = np.abs(f2.drawKImage().array)\n",
    "\n",
    "plt.figure()\n",
    "plt.imshow(im)\n",
    "print(im.max(), im.min())\n",
    "\n",
    "plt.figure()\n",
    "plt.imshow(f2.drawImage(nx=33, ny=33, scale=0.25, method='no_pixel').array)\n",
    "\n",
    "plt.figure()\n",
    "plt.imshow(np.abs(f2.drawKImage(nx=50, ny=50).array))"
   ]
  },
  {
   "cell_type": "code",
   "execution_count": null,
   "metadata": {},
   "outputs": [],
   "source": []
  },
  {
   "cell_type": "code",
   "execution_count": null,
   "metadata": {},
   "outputs": [],
   "source": []
  },
  {
   "cell_type": "code",
   "execution_count": null,
   "metadata": {},
   "outputs": [],
   "source": []
  },
  {
   "cell_type": "code",
   "execution_count": null,
   "metadata": {},
   "outputs": [],
   "source": []
  },
  {
   "cell_type": "code",
   "execution_count": null,
   "metadata": {},
   "outputs": [],
   "source": []
  },
  {
   "cell_type": "code",
   "execution_count": null,
   "metadata": {},
   "outputs": [],
   "source": [
    "import tensorflow as tf\n",
    "import numpy as np\n",
    "import galsim\n",
    "\n",
    "import numba\n",
    "import numpy as np\n",
    "import galsim\n",
    "import matplotlib.pyplot as plt\n",
    "import seaborn as sns\n",
    "\n",
    "import scipy.fftpack\n",
    "\n",
    "%matplotlib notebook\n",
    "\n",
    "SCALE = 0.25"
   ]
  },
  {
   "cell_type": "code",
   "execution_count": null,
   "metadata": {},
   "outputs": [],
   "source": [
    "class TFSolver(object):\n",
    "    def __init__(self, tgt, nk, C=0):\n",
    "        self.nr = tgt.shape[0]\n",
    "        self.nk = nk\n",
    "        self.C = C\n",
    "        \n",
    "        self.graph = tf.Graph()\n",
    "        self.session = tf.Session(graph=self.graph)\n",
    "        \n",
    "        ident = np.zeros((self.nk, self.nk))\n",
    "        sz = (self.nk - 1) // 2\n",
    "        ident[sz, sz] = 1.0\n",
    "        # ident = scipy.fftpack.fftshift(ident)\n",
    "        ident = ident.reshape(self.nk, self.nk, 1, 1)\n",
    "        \n",
    "        with self.graph.as_default():\n",
    "            kern = tf.get_variable(\n",
    "                'kern%d' % self.nk, \n",
    "                # shape=[self.nk, self.nk, 1, 1],\n",
    "                initializer=tf.constant(ident.astype(np.float64)), \n",
    "                dtype=tf.float64)\n",
    "            target_psf = tf.constant(tgt.astype(np.float64))\n",
    "    \n",
    "            kern = kern / tf.reduce_sum(kern)\n",
    "            in_psf = tf.placeholder(tf.float64, [self.nr, self.nr])\n",
    "            out_psf = tf.nn.conv2d(\n",
    "                tf.reshape(in_psf, [1, self.nr, self.nr, 1]),\n",
    "                kern,\n",
    "                [1, 1, 1, 1],\n",
    "                \"SAME\")\n",
    "            loss = (\n",
    "                tf.reduce_mean(tf.pow(out_psf - target_psf, 2)) / np.power(tgt.max(), 2) + \n",
    "                self.C * tf.reduce_mean(tf.abs(kern)))\n",
    "\n",
    "            train_step = tf.contrib.opt.ScipyOptimizerInterface(\n",
    "                            loss,\n",
    "                            method='L-BFGS-B',\n",
    "                            options={\n",
    "                                'maxiter': 5000, \n",
    "                                'gtol': 1e-32, \n",
    "                                'eps': 1e-32,\n",
    "                                'ftol': 1e-32})\n",
    "            init = tf.global_variables_initializer()\n",
    "            \n",
    "            self.session.run(init)\n",
    "            self.kern = kern\n",
    "            self.train_step = train_step\n",
    "            self.loss = loss\n",
    "            self.out_psf = out_psf\n",
    "            self.in_psf = in_psf\n",
    "        \n",
    "    def solve(self, psf):\n",
    "        self.train_step.minimize(self.session, feed_dict={self.in_psf: psf})\n",
    "        l = self.session.run(self.loss, feed_dict={self.in_psf: gs1})\n",
    "        arr = self.kern.eval(session=self.session)\n",
    "        return arr[:, :, 0, 0]"
   ]
  },
  {
   "cell_type": "code",
   "execution_count": null,
   "metadata": {},
   "outputs": [],
   "source": [
    "gs2 = galsim.Gaussian(fwhm=1).drawImage(nx=33, ny=33, scale=SCALE).array\n",
    "gs1 = galsim.Gaussian(fwhm=0.96).drawImage(nx=33, ny=33, scale=SCALE).array\n",
    "\n",
    "solver = TFSolver(gs2, 7, C=0)\n",
    "arr = solver.solve(gs1)"
   ]
  },
  {
   "cell_type": "code",
   "execution_count": null,
   "metadata": {},
   "outputs": [],
   "source": [
    "ops = solver.out_psf.eval(session=solver.session, feed_dict={solver.in_psf: gs2})[0, :, :, 0]\n",
    "\n",
    "fig, axs = plt.subplots(nrows=2, ncols=2, figsize=(6, 6))\n",
    "\n",
    "ax = axs[0, 0]\n",
    "ax.grid(False)\n",
    "ax.imshow(ops)\n",
    "ax.set_title('output')\n",
    "\n",
    "ax = axs[0, 1]\n",
    "ax.grid(False)\n",
    "ax.imshow(gs2)\n",
    "ax.set_title('target')\n",
    "\n",
    "ax = axs[1, 0]\n",
    "sns.heatmap((ops - gs2)/gs2.max(), ax=ax, square=True)\n",
    "ax.set_title('output - target')\n",
    "\n",
    "ax = axs[1, 1]\n",
    "ax.grid(False)\n",
    "ax.imshow(arr)\n",
    "ax.set_title('kernel')\n",
    "\n",
    "plt.tight_layout()"
   ]
  },
  {
   "cell_type": "code",
   "execution_count": null,
   "metadata": {},
   "outputs": [],
   "source": []
  },
  {
   "cell_type": "code",
   "execution_count": null,
   "metadata": {},
   "outputs": [],
   "source": []
  },
  {
   "cell_type": "code",
   "execution_count": null,
   "metadata": {},
   "outputs": [],
   "source": []
  },
  {
   "cell_type": "code",
   "execution_count": 1,
   "metadata": {},
   "outputs": [],
   "source": [
    "import numpy as np\n",
    "import galsim\n",
    "\n",
    "import numba\n",
    "import numpy as np\n",
    "import galsim\n",
    "import matplotlib.pyplot as plt\n",
    "import seaborn as sns\n",
    "\n",
    "import scipy.fftpack\n",
    "\n",
    "%matplotlib notebook\n",
    "\n",
    "SCALE = 0.25"
   ]
  },
  {
   "cell_type": "code",
   "execution_count": 18,
   "metadata": {},
   "outputs": [],
   "source": [
    "# some imports constants we need\n",
    "import ngmix\n",
    "from ngmix.observation import Observation\n",
    "from ngmix.fitting import LMSimple, LMCoellip\n",
    "from ngmix.bootstrap import EMRunner\n",
    "\n",
    "def _build_kernel(in_scale):\n",
    "    gs2 = galsim.Gaussian(fwhm=1/SCALE).drawImage(nx=33, ny=33, scale=1).array\n",
    "    gs1 = galsim.Gaussian(fwhm=in_scale/SCALE).drawImage(nx=33, ny=33, scale=1).array\n",
    "\n",
    "    jacob = ngmix.UnitJacobian(\n",
    "        row=16.0,\n",
    "        col=16.0)\n",
    "\n",
    "    psf_obs = Observation(gs1, jacobian=jacob)\n",
    "\n",
    "    if False:\n",
    "        ngauss = 3\n",
    "        ntry = 5\n",
    "        em_pars = {'maxiter':1000, 'tol':1.0e-6}\n",
    "        runner = EMRunner(psf_obs, 4, ngauss, em_pars)\n",
    "        runner.go(ntry=ntry)\n",
    "\n",
    "        pres = runner.get_fitter().get_result()\n",
    "        psf_gmix_fit = runner.get_fitter().get_gmix()\n",
    "    elif True:\n",
    "        pfitter = LMCoellip(psf_obs, 2)\n",
    "        guess = np.zeros(4 + 2*2) + 1e-3\n",
    "        guess[4:] = guess[-2*2:] + 1\n",
    "        pfitter.go(guess)\n",
    "        psf_gmix_fit = pfitter.get_gmix()\n",
    "    else:\n",
    "        pfitter = LMSimple(psf_obs, 'gauss')\n",
    "        guess = np.zeros(6) + 1e-3\n",
    "        guess[4:] = guess[4:] + 1\n",
    "        pfitter.go(guess)\n",
    "        psf_gmix_fit = pfitter.get_gmix()\n",
    "\n",
    "    psf_gmix_fit.set_flux(1.0)\n",
    "    psf_obs.set_gmix(psf_gmix_fit)\n",
    "\n",
    "    obs = Observation(gs2, jacobian=jacob, psf=psf_obs)\n",
    "    fitter = LMSimple(obs, 'gauss')\n",
    "    guess = np.zeros(6) + 1e-3\n",
    "    guess[4:] += 1\n",
    "    fitter.go(guess)\n",
    "\n",
    "    res = fitter.get_result()\n",
    "\n",
    "    gmix = ngmix.GMixModel(res['pars'], 'gauss')\n",
    "\n",
    "    im = gmix.make_image([7, 7], jacobian=ngmix.UnitJacobian(row=3, col=3))\n",
    "    \n",
    "    return im\n",
    "    "
   ]
  },
  {
   "cell_type": "code",
   "execution_count": 19,
   "metadata": {},
   "outputs": [
    {
     "name": "stdout",
     "output_type": "stream",
     "text": [
      "     singular covariance\n",
      "    pars at singular: -5.25e-07  6.15e-06  -3.19e-06  -5.88e-07       1.7       1.7     -53.6      54.6 \n",
      "     bad covariance matrix\n",
      "     singular covariance\n",
      "    pars at singular: 2.47e-06  1.62e-07  -1.36e-09   1.2e-06      3.21         1 \n",
      "     singular covariance\n",
      "    pars at singular: -5.78e-08  -5.74e-09  -4.59e-10  -4.59e-08      0.66      2.99  -0.000478         1 \n",
      "     singular covariance\n",
      "    pars at singular: -3.35e-07  -1.41e-06  0.000236  -5.79e-05  4.41e-06         1 \n"
     ]
    },
    {
     "data": {
      "image/png": "[encoded data removed]",
      "text/plain": [
       "<Figure size 576x576 with 16 Axes>"
      ]
     },
     "metadata": {
      "needs_background": "light"
     },
     "output_type": "display_data"
    }
   ],
   "source": [
    "fig, axs = plt.subplots(nrows=4, ncols=4, figsize=(8, 8), sharex='all', sharey='all')\n",
    "\n",
    "axs = axs.ravel()\n",
    "scales = np.linspace(0.5, 1.0, 16)\n",
    "for ax, scale in zip(axs, scales):\n",
    "    im = _build_kernel(scale)\n",
    "    ax.imshow(im)\n",
    "    ax.grid(False)\n",
    "    ax.axis('off')\n",
    "\n",
    "plt.tight_layout()\n",
    "plt.savefig('/Users/Matt/Desktop/kerns.png')"
   ]
  },
  {
   "cell_type": "code",
   "execution_count": null,
   "metadata": {},
   "outputs": [],
   "source": []
  }
 ],
 "metadata": {
  "kernelspec": {
   "display_name": "Python 3",
   "language": "python",
   "name": "python3"
  },
  "language_info": {
   "codemirror_mode": {
    "name": "ipython",
    "version": 3
   },
   "file_extension": ".py",
   "mimetype": "text/x-python",
   "name": "python",
   "nbconvert_exporter": "python",
   "pygments_lexer": "ipython3",
   "version": "3.6.7"
  }
 },
 "nbformat": 4,
 "nbformat_minor": 2
}
