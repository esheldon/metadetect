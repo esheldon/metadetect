{
 "cells": [
  {
   "cell_type": "code",
   "execution_count": 1,
   "metadata": {},
   "outputs": [],
   "source": [
    "%load_ext autoreload\n",
    "%autoreload 2\n",
    "\n",
    "import galsim\n",
    "import numpy as np\n",
    "import ngmix\n",
    "import matplotlib.pyplot as plt\n",
    "import seaborn as sns\n",
    "\n",
    "%matplotlib notebook\n",
    "sns.set()"
   ]
  },
  {
   "cell_type": "code",
   "execution_count": 2,
   "metadata": {},
   "outputs": [],
   "source": [
    "SCALE = 0.25"
   ]
  },
  {
   "cell_type": "code",
   "execution_count": 3,
   "metadata": {},
   "outputs": [],
   "source": [
    "import piff\n",
    "\n",
    "PSF_MODEL = piff.PSF.read(\"piffs/D00240560_r_c58_r2362p01_piff.fits\")\n",
    "\n",
    "def get_piff_psf(col, row):\n",
    "    image = galsim.ImageD(ncol=17, nrow=17, wcs=galsim.PixelScale(SCALE))\n",
    "    _psf_im = PSF_MODEL.draw(x=int(col+0.5), y=int(row+0.5), image=image)\n",
    "    _psf = galsim.InterpolatedImage(_psf_im, wcs=galsim.PixelScale(SCALE))\n",
    "    print(_psf.calculateFWHM())\n",
    "    return _psf_im.array"
   ]
  },
  {
   "cell_type": "code",
   "execution_count": 4,
   "metadata": {},
   "outputs": [
    {
     "name": "stdout",
     "output_type": "stream",
     "text": [
      "0.9056686334784425\n",
      "0.9310791147319981\n"
     ]
    }
   ],
   "source": [
    "psf1 = get_piff_psf(200, 400)\n",
    "psf2 = get_piff_psf(900, 10)"
   ]
  },
  {
   "cell_type": "code",
   "execution_count": 5,
   "metadata": {},
   "outputs": [],
   "source": [
    "import ngmix"
   ]
  },
  {
   "cell_type": "code",
   "execution_count": 6,
   "metadata": {},
   "outputs": [],
   "source": [
    "def _fit_ngmix(im):\n",
    "    cen = (im.shape[0]-1) / 2\n",
    "    obs = ngmix.Observation(\n",
    "        image=im,\n",
    "        jacobian=ngmix.UnitJacobian(row=cen, col=cen))\n",
    "    fitter = ngmix.fitting.LMSimple(obs, \"gauss\")\n",
    "    guess = np.zeros(6) + 1e-3\n",
    "    guess[4:] += 1\n",
    "    fitter.go(guess)\n",
    "    res = fitter.get_result()\n",
    "    return res['pars']"
   ]
  },
  {
   "cell_type": "code",
   "execution_count": 7,
   "metadata": {},
   "outputs": [],
   "source": [
    "pars1 = _fit_ngmix(psf1)\n",
    "pars2 = _fit_ngmix(psf2)\n",
    "gm1 = ngmix.GMixModel(pars1, \"gauss\")\n",
    "gm2 = ngmix.GMixModel(pars2, \"gauss\")"
   ]
  },
  {
   "cell_type": "code",
   "execution_count": 8,
   "metadata": {},
   "outputs": [],
   "source": [
    "sz1 = np.sqrt(pars1[4]) * (1.0 + 2.0 * np.sqrt(np.sum(pars1[2:4]**2)))\n",
    "sz2 = np.sqrt(pars2[4]) * (1.0 + 2.0 * np.sqrt(np.sum(pars2[2:4]**2)))"
   ]
  },
  {
   "cell_type": "code",
   "execution_count": 9,
   "metadata": {},
   "outputs": [
    {
     "data": {
      "text/plain": [
       "(2.707566452918814, 2.7036017535770975)"
      ]
     },
     "execution_count": 9,
     "metadata": {},
     "output_type": "execute_result"
    }
   ],
   "source": [
    "sz1, sz2"
   ]
  },
  {
   "cell_type": "code",
   "execution_count": 10,
   "metadata": {},
   "outputs": [],
   "source": [
    "dpars = [1.0, 0.0, 0.0] + list(gm1.get_full_pars()[-3:] - gm2.get_full_pars()[-3:])\n",
    "dpars[-3] = dpars[-3] + 0.02\n",
    "dpars[-1] = dpars[-1] + 0.02"
   ]
  },
  {
   "cell_type": "code",
   "execution_count": 11,
   "metadata": {},
   "outputs": [],
   "source": [
    "gmd = ngmix.GMix(pars=dpars)"
   ]
  },
  {
   "cell_type": "code",
   "execution_count": 14,
   "metadata": {},
   "outputs": [],
   "source": [
    "imd = gmd.make_image((11, 11), jacobian=ngmix.DiagonalJacobian(scale=0.25, row=5, col=5))\n",
    "imd /= imd.sum()"
   ]
  },
  {
   "cell_type": "code",
   "execution_count": 15,
   "metadata": {},
   "outputs": [
    {
     "data": {
      "text/plain": [
       "<matplotlib.axes._subplots.AxesSubplot at 0x1223a5f60>"
      ]
     },
     "execution_count": 15,
     "metadata": {},
     "output_type": "execute_result"
    },
    {
     "data": {
      "image/png": "[encoded data removed]",
      "text/plain": [
       "<Figure size 576x576 with 2 Axes>"
      ]
     },
     "metadata": {
      "needs_background": "light"
     },
     "output_type": "display_data"
    }
   ],
   "source": [
    "plt.figure(figsize=(8, 8))\n",
    "sns.heatmap(imd, square=True)"
   ]
  },
  {
   "cell_type": "code",
   "execution_count": 16,
   "metadata": {},
   "outputs": [],
   "source": [
    "from psf_homogenizer import upsample_image\n",
    "\n",
    "upsf1 = upsample_image(psf1, 4, ensure_odd=True)\n",
    "upsf2 = upsample_image(psf2, 4, ensure_odd=True)"
   ]
  },
  {
   "cell_type": "code",
   "execution_count": 18,
   "metadata": {},
   "outputs": [],
   "source": [
    "import scipy.signal\n",
    "\n",
    "hupsf2 = scipy.signal.convolve2d(upsf2, imd / np.sum(imd), mode='same')"
   ]
  },
  {
   "cell_type": "code",
   "execution_count": 19,
   "metadata": {},
   "outputs": [],
   "source": [
    "from psf_homogenizer import downsample_image\n",
    "\n",
    "dhupsf2 = downsample_image(hupsf2, 4, [17, 17])"
   ]
  },
  {
   "cell_type": "code",
   "execution_count": 20,
   "metadata": {},
   "outputs": [],
   "source": [
    "pars = _fit_ngmix(dhupsf2)"
   ]
  },
  {
   "cell_type": "code",
   "execution_count": 25,
   "metadata": {},
   "outputs": [
    {
     "data": {
      "text/plain": [
       "['0.07086', '0.09056', '-0.03069', '0.01333', '6.52392', '0.88016']"
      ]
     },
     "execution_count": 25,
     "metadata": {},
     "output_type": "execute_result"
    }
   ],
   "source": [
    "[\"%0.5f\" % p for p in pars]"
   ]
  },
  {
   "cell_type": "code",
   "execution_count": 26,
   "metadata": {},
   "outputs": [
    {
     "data": {
      "text/plain": [
       "['0.01651', '0.09431', '-0.03156', '0.01212', '6.43176', '0.87516']"
      ]
     },
     "execution_count": 26,
     "metadata": {},
     "output_type": "execute_result"
    }
   ],
   "source": [
    "[\"%0.5f\" % p for p in pars1]"
   ]
  },
  {
   "cell_type": "code",
   "execution_count": 27,
   "metadata": {},
   "outputs": [
    {
     "data": {
      "text/plain": [
       "['0.07064', '0.09049', '-0.03702', '0.00392', '6.33161', '0.87631']"
      ]
     },
     "execution_count": 27,
     "metadata": {},
     "output_type": "execute_result"
    }
   ],
   "source": [
    "[\"%0.5f\" % p for p in pars2]"
   ]
  },
  {
   "cell_type": "code",
   "execution_count": 28,
   "metadata": {},
   "outputs": [],
   "source": [
    "from scipy.ndimage.filters import gaussian_filter"
   ]
  },
  {
   "cell_type": "code",
   "execution_count": 29,
   "metadata": {},
   "outputs": [
    {
     "data": {
      "text/plain": [
       "<matplotlib.axes._subplots.AxesSubplot at 0x122d7ae80>"
      ]
     },
     "execution_count": 29,
     "metadata": {},
     "output_type": "execute_result"
    },
    {
     "data": {
      "image/png": "[encoded data removed]",
      "text/plain": [
       "<Figure size 1152x1152 with 8 Axes>"
      ]
     },
     "metadata": {
      "needs_background": "light"
     },
     "output_type": "display_data"
    }
   ],
   "source": [
    "fig, axs = plt.subplots(nrows=2, ncols=2, figsize=(16, 16))\n",
    "\n",
    "ax = axs[0, 0]\n",
    "sns.heatmap(dhupsf2, square=True, ax=ax)\n",
    "\n",
    "ax = axs[0, 1]\n",
    "sns.heatmap(\n",
    "    (gaussian_filter(dhupsf2, 1, mode='constant') - \n",
    "     gaussian_filter(psf1, 1, mode='constant'))/gaussian_filter(psf1, 1, mode='constant').max(), \n",
    "    square=True, ax=ax)\n",
    "\n",
    "ax = axs[1, 0]\n",
    "sns.heatmap(psf1, square=True, ax=ax)\n",
    "\n",
    "ax = axs[1, 1]\n",
    "sns.heatmap(\n",
    "    (gaussian_filter(psf2, 1, mode='constant') - \n",
    "     gaussian_filter(psf1, 1, mode='constant'))/gaussian_filter(psf1, 1, mode='constant').max(), \n",
    "    square=True, ax=ax)"
   ]
  },
  {
   "cell_type": "code",
   "execution_count": null,
   "metadata": {},
   "outputs": [],
   "source": []
  },
  {
   "cell_type": "code",
   "execution_count": null,
   "metadata": {},
   "outputs": [],
   "source": []
  },
  {
   "cell_type": "code",
   "execution_count": null,
   "metadata": {},
   "outputs": [],
   "source": []
  },
  {
   "cell_type": "code",
   "execution_count": null,
   "metadata": {},
   "outputs": [],
   "source": [
    "plt.figure(figsize=(8, 8))\n",
    "plt.imshow(psf2)\n",
    "plt.gca().grid(False)"
   ]
  },
  {
   "cell_type": "code",
   "execution_count": null,
   "metadata": {},
   "outputs": [],
   "source": [
    "import scipy.fftpack"
   ]
  },
  {
   "cell_type": "code",
   "execution_count": null,
   "metadata": {},
   "outputs": [],
   "source": [
    "ks = 9\n",
    "\n",
    "ftgt = scipy.fftpack.fft2(np.pad(psf1, psf1.shape[0] * 2, 'constant', constant_values=0.0))\n",
    "fpsf = scipy.fftpack.fft2(np.pad(psf2, psf2.shape[0] * 2, 'constant', constant_values=0.0))\n",
    "\n",
    "krn = scipy.fftpack.fftshift(scipy.fftpack.ifft2(ftgt/fpsf).real)\n",
    "\n",
    "sz = (krn.shape[0] - ks) // 2\n",
    "krn = krn[sz:-sz, sz:-sz]\n",
    "krn = krn / np.sum(krn)"
   ]
  },
  {
   "cell_type": "code",
   "execution_count": null,
   "metadata": {},
   "outputs": [],
   "source": [
    "plt.figure()\n",
    "plt.imshow(krn)\n",
    "plt.gca().grid(False)"
   ]
  },
  {
   "cell_type": "code",
   "execution_count": null,
   "metadata": {},
   "outputs": [],
   "source": [
    "import scipy.signal"
   ]
  },
  {
   "cell_type": "code",
   "execution_count": null,
   "metadata": {},
   "outputs": [],
   "source": [
    "hpsf2 = scipy.signal.convolve2d(psf2, krn, mode='same')"
   ]
  },
  {
   "cell_type": "code",
   "execution_count": null,
   "metadata": {},
   "outputs": [],
   "source": [
    "fig, axs = plt.subplots(nrows=1, ncols=2, figsize=(16, 8))\n",
    "\n",
    "ax = axs[0]\n",
    "sns.heatmap(hpsf2, square=True, ax=ax)\n",
    "\n",
    "ax = axs[1]\n",
    "sns.heatmap(psf2, square=True, ax=ax)\n",
    "# sns.heatmap((hpsf2-psf1)/psf1.max(), square=True, ax=ax)"
   ]
  },
  {
   "cell_type": "code",
   "execution_count": null,
   "metadata": {},
   "outputs": [],
   "source": []
  },
  {
   "cell_type": "code",
   "execution_count": null,
   "metadata": {},
   "outputs": [],
   "source": []
  },
  {
   "cell_type": "code",
   "execution_count": null,
   "metadata": {},
   "outputs": [],
   "source": []
  },
  {
   "cell_type": "markdown",
   "metadata": {},
   "source": [
    "## A Simple Set of Gaussian Blobs"
   ]
  },
  {
   "cell_type": "code",
   "execution_count": null,
   "metadata": {},
   "outputs": [],
   "source": [
    "SCALE = 0.25"
   ]
  },
  {
   "cell_type": "code",
   "execution_count": null,
   "metadata": {},
   "outputs": [],
   "source": [
    "import piff\n",
    "\n",
    "PSF_MODEL = piff.PSF.read(\"piffs/D00240560_r_c58_r2362p01_piff.fits\")\n",
    "\n",
    "def get_piff_psf(col, row):\n",
    "    image = galsim.ImageD(ncol=17, nrow=17, wcs=galsim.PixelScale(SCALE))\n",
    "    _psf_im = PSF_MODEL.draw(x=int(col+1.5), y=int(row+1.5), image=image)\n",
    "    _psf = galsim.InterpolatedImage(_psf_im, wcs=galsim.PixelScale(SCALE))\n",
    "    return _psf"
   ]
  },
  {
   "cell_type": "code",
   "execution_count": null,
   "metadata": {},
   "outputs": [],
   "source": [
    "psf1 = get_piff_psf(200, 400)\n",
    "psf2 = get_piff_psf(800, 10)\n",
    "\n",
    "print(psf1.calculateFWHM(), psf2.calculateFWHM())"
   ]
  },
  {
   "cell_type": "code",
   "execution_count": null,
   "metadata": {},
   "outputs": [],
   "source": [
    "obj = [galsim.Gaussian(fwhm=4).shift(-6, 0), galsim.Gaussian(fwhm=4).shift(6, 0)]\n",
    "\n",
    "pobj = [\n",
    "    galsim.Convolve(obj[0], psf1),\n",
    "    galsim.Convolve(obj[1], psf2)]\n",
    "\n",
    "hpobj = [\n",
    "    galsim.Convolve(obj[0], psf2),\n",
    "    galsim.Convolve(obj[1], psf2)]"
   ]
  },
  {
   "cell_type": "code",
   "execution_count": null,
   "metadata": {},
   "outputs": [],
   "source": [
    "fig, axs = plt.subplots(nrows=1, ncols=2, figsize=(16, 8))\n",
    "\n",
    "ax = axs[0]\n",
    "im = galsim.Sum(obj).drawImage(scale=SCALE, nx=120, ny=120, method='no_pixel')\n",
    "ax.imshow(im.array)\n",
    "ax.grid(False)\n",
    "\n",
    "ax = axs[1]\n",
    "im = galsim.Sum(pobj).drawImage(scale=SCALE, nx=120, ny=120, method='no_pixel')\n",
    "ax.imshow(im.array)\n",
    "ax.grid(False)"
   ]
  },
  {
   "cell_type": "code",
   "execution_count": null,
   "metadata": {},
   "outputs": [],
   "source": [
    "def psf_model(row, col):\n",
    "    if col >= 120/2:\n",
    "        return psf2.drawImage(scale=SCALE, nx=17, ny=17, method='no_pixel').array\n",
    "    else:\n",
    "        return psf1.drawImage(scale=SCALE, nx=17, ny=17, method='no_pixel').array"
   ]
  },
  {
   "cell_type": "code",
   "execution_count": null,
   "metadata": {},
   "outputs": [],
   "source": [
    "from psf_homogenizer import PSFHomogenizer\n",
    "\n",
    "hpsf = PSFHomogenizer(\n",
    "    psf_model, 120, 10, \n",
    "    kernel_size=9, \n",
    "    dilation_fudge=1.05)\n",
    "hpsf.solve_for_kernel()"
   ]
  },
  {
   "cell_type": "code",
   "execution_count": null,
   "metadata": {},
   "outputs": [],
   "source": [
    "%%time\n",
    "\n",
    "im_orig = galsim.Sum(pobj).drawImage(scale=SCALE, nx=120, ny=120, method='no_pixel').array\n",
    "\n",
    "imh = hpsf.apply_kernel(im_orig)"
   ]
  },
  {
   "cell_type": "code",
   "execution_count": null,
   "metadata": {},
   "outputs": [],
   "source": [
    "def _subtract_mirrored(im, im_true):\n",
    "    imn = np.zeros_like(im)\n",
    "    mid = imn.shape[1] // 2\n",
    "    imn[:, :mid] = im[:, :mid] - im_true[:, mid:][:, ::-1]\n",
    "    imn[:, mid:] = im[:, mid:] - im_true[:, mid:]\n",
    "    return imn"
   ]
  },
  {
   "cell_type": "code",
   "execution_count": null,
   "metadata": {},
   "outputs": [],
   "source": [
    "fig, axs = plt.subplots(nrows=2, ncols=2, figsize=(16, 16))\n",
    "\n",
    "ax = axs[0, 1]\n",
    "imp = _subtract_mirrored(im_orig, im_orig)\n",
    "vmin = np.min(imp)\n",
    "vmax = np.max(imp)\n",
    "imp = (imp - vmin) / (vmax - vmin)\n",
    "sns.heatmap(imp, ax=ax, square=True)\n",
    "ax.grid(False)\n",
    "ax.set_title('orig variation')\n",
    "\n",
    "ax = axs[0, 0]\n",
    "imp = _subtract_mirrored(imh, imh)\n",
    "imp = (imp - np.min(imp))/(vmax - vmin)\n",
    "sns.heatmap(imp, ax=ax, square=True)\n",
    "ax.set_title('homogenized image variation')\n",
    "\n",
    "ax = axs[1, 0]\n",
    "sns.heatmap(imh - im_orig, ax=ax, square=True)\n",
    "ax.set_title('homogenized - orig')\n",
    "\n",
    "ax = axs[1, 1]\n",
    "sns.heatmap(im_orig, ax=ax, square=True)\n",
    "ax.set_title('orig')"
   ]
  },
  {
   "cell_type": "code",
   "execution_count": null,
   "metadata": {},
   "outputs": [],
   "source": [
    "plt.figure()\n",
    "plt.imshow(hpsf.get_kernel(80, 80))\n",
    "plt.gca().grid(False)"
   ]
  },
  {
   "cell_type": "code",
   "execution_count": null,
   "metadata": {},
   "outputs": [],
   "source": [
    "plt.figure()\n",
    "plt.imshow(hpsf.get_kernel(0, 0))\n",
    "plt.gca().grid(False)"
   ]
  },
  {
   "cell_type": "code",
   "execution_count": null,
   "metadata": {},
   "outputs": [],
   "source": []
  }
 ],
 "metadata": {
  "kernelspec": {
   "display_name": "Python 3",
   "language": "python",
   "name": "python3"
  },
  "language_info": {
   "codemirror_mode": {
    "name": "ipython",
    "version": 3
   },
   "file_extension": ".py",
   "mimetype": "text/x-python",
   "name": "python",
   "nbconvert_exporter": "python",
   "pygments_lexer": "ipython3",
   "version": "3.6.7"
  }
 },
 "nbformat": 4,
 "nbformat_minor": 2
}
