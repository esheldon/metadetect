{
 "cells": [
  {
   "cell_type": "code",
   "execution_count": null,
   "metadata": {},
   "outputs": [],
   "source": [
    "%load_ext autoreload\n",
    "%autoreload 2\n",
    "\n",
    "import galsim\n",
    "import numpy as np\n",
    "import ngmix\n",
    "import matplotlib.pyplot as plt\n",
    "import seaborn as sns\n",
    "\n",
    "%matplotlib notebook\n",
    "sns.set()"
   ]
  },
  {
   "cell_type": "markdown",
   "metadata": {},
   "source": [
    "## Try Out the Super(!) Sampler"
   ]
  },
  {
   "cell_type": "code",
   "execution_count": null,
   "metadata": {},
   "outputs": [],
   "source": [
    "from psf_homogenizer import super_sample_image"
   ]
  },
  {
   "cell_type": "code",
   "execution_count": null,
   "metadata": {},
   "outputs": [],
   "source": [
    "gauss = galsim.Gaussian(fwhm=1).drawImage(nx=11, ny=11, scale=0.25).array"
   ]
  },
  {
   "cell_type": "code",
   "execution_count": null,
   "metadata": {},
   "outputs": [],
   "source": [
    "gauss_ssamp = super_sample_image(gauss, 4, ensure_odd=True)\n",
    "print(gauss_ssamp.shape)"
   ]
  },
  {
   "cell_type": "code",
   "execution_count": null,
   "metadata": {},
   "outputs": [],
   "source": [
    "fig, axs = plt.subplots(nrows=1, ncols=2, figsize=(24, 12))\n",
    "\n",
    "ax = axs[0]\n",
    "ax.imshow(gauss)\n",
    "ax.grid(False)\n",
    "ax.set_title('orig')\n",
    "\n",
    "ax = axs[1]\n",
    "ax.imshow(gauss_ssamp)\n",
    "ax.grid(False)\n",
    "ax.set_title('super sampled')"
   ]
  },
  {
   "cell_type": "code",
   "execution_count": null,
   "metadata": {},
   "outputs": [],
   "source": [
    "np.sum(gauss_ssamp == gauss_ssamp[22, 22])"
   ]
  },
  {
   "cell_type": "code",
   "execution_count": null,
   "metadata": {},
   "outputs": [],
   "source": [
    "from psf_homogenizer import down_sample_image"
   ]
  },
  {
   "cell_type": "code",
   "execution_count": null,
   "metadata": {},
   "outputs": [],
   "source": [
    "new_gauss = down_sample_image(gauss_ssamp, 4, (11, 11))"
   ]
  },
  {
   "cell_type": "code",
   "execution_count": null,
   "metadata": {},
   "outputs": [],
   "source": [
    "fig, axs = plt.subplots(nrows=1, ncols=2, figsize=(24, 12))\n",
    "\n",
    "ax = axs[0]\n",
    "ax.imshow(new_gauss)\n",
    "ax.grid(False)\n",
    "ax.set_title('down sampled')\n",
    "\n",
    "ax = axs[1]\n",
    "ax.imshow(gauss_ssamp)\n",
    "ax.grid(False)\n",
    "ax.set_title('super sampled')"
   ]
  }
 ],
 "metadata": {
  "kernelspec": {
   "display_name": "Python 3",
   "language": "python",
   "name": "python3"
  },
  "language_info": {
   "codemirror_mode": {
    "name": "ipython",
    "version": 3
   },
   "file_extension": ".py",
   "mimetype": "text/x-python",
   "name": "python",
   "nbconvert_exporter": "python",
   "pygments_lexer": "ipython3",
   "version": "3.6.7"
  }
 },
 "nbformat": 4,
 "nbformat_minor": 2
}
