{
 "cells": [
  {
   "cell_type": "code",
   "execution_count": null,
   "metadata": {},
   "outputs": [],
   "source": [
    "import numpy as np\n",
    "import matplotlib.pyplot as plt\n",
    "import seaborn as sns\n",
    "\n",
    "%matplotlib notebook\n",
    "sns.set()"
   ]
  },
  {
   "cell_type": "code",
   "execution_count": null,
   "metadata": {},
   "outputs": [],
   "source": [
    "from test_sim_utils import Sim, TEST_METADETECT_CONFIG"
   ]
  },
  {
   "cell_type": "code",
   "execution_count": null,
   "metadata": {},
   "outputs": [],
   "source": [
    "from metadetect.metadetect_and_cal import MetadetectAndCal\n",
    "from metadetect.metadetect import Metadetect\n",
    "\n",
    "config = {}\n",
    "config.update(TEST_METADETECT_CONFIG)"
   ]
  },
  {
   "cell_type": "code",
   "execution_count": null,
   "metadata": {},
   "outputs": [],
   "source": []
  },
  {
   "cell_type": "code",
   "execution_count": null,
   "metadata": {},
   "outputs": [],
   "source": [
    "rng = np.random.RandomState(seed=0)"
   ]
  },
  {
   "cell_type": "code",
   "execution_count": null,
   "metadata": {},
   "outputs": [],
   "source": [
    "mbobs = Sim(rng, config={'g1': 0.02}).get_mbobs()\n",
    "md = Metadetect(config, mbobs, rng)\n",
    "md.go()\n",
    "\n",
    "plt.figure(figsize=(10, 10))\n",
    "ax = plt.gca()\n",
    "plt.imshow(mbobs[0][0].image)\n",
    "ax.grid(False)\n",
    "\n",
    "plt.plot(md.result['noshear']['sx_col'], md.result['noshear']['sx_row'], 'ob')\n",
    "\n",
    "print(len(md.result['noshear']['sx_col']))"
   ]
  },
  {
   "cell_type": "code",
   "execution_count": null,
   "metadata": {},
   "outputs": [],
   "source": []
  },
  {
   "cell_type": "code",
   "execution_count": null,
   "metadata": {},
   "outputs": [],
   "source": [
    "def _meas_shear(res):\n",
    "    op = res['1p']\n",
    "    q = (op['flags'] == 0) & (op['wmom_s2n'] > 10) & (op['wmom_T_ratio'] > 1.2)\n",
    "    g1p = op['wmom_g'][q, 0]\n",
    "    \n",
    "    om = res['1m']\n",
    "    q = (om['flags'] == 0) & (om['wmom_s2n'] > 10) & (om['wmom_T_ratio'] > 1.2)\n",
    "    g1m = om['wmom_g'][q, 0]\n",
    "    \n",
    "    o = res['noshear']\n",
    "    q = (o['flags'] == 0) & (o['wmom_s2n'] > 10) & (o['wmom_T_ratio'] > 1.2)\n",
    "    g1 = o['wmom_g'][q, 0]\n",
    "    \n",
    "    return g1p, g1m, g1\n",
    "\n",
    "from scipy.optimize import curve_fit\n",
    "\n",
    "def _get_stuff(rr):\n",
    "    g1p = np.array([np.mean(r[0]) for r in rr])\n",
    "    g1m = np.array([np.mean(r[1]) for r in rr])\n",
    "    g1 = np.array([np.mean(r[2]) for r in rr])\n",
    "    \n",
    "    return g1, (g1p - g1m) / 2 / 0.01 * 0.02\n",
    "\n",
    "def _fit_m(prr, mrr):\n",
    "    g1p, R11p = _get_stuff(prr)\n",
    "    g1m, R11m = _get_stuff(mrr)\n",
    "    \n",
    "    x = R11p + R11m\n",
    "    y = g1p - g1m\n",
    "    \n",
    "    fres = curve_fit(lambda x, m: (1 + m) * x, x, y, [0])\n",
    "    return fres[0][0], np.sqrt(fres[1][0, 0])"
   ]
  },
  {
   "cell_type": "code",
   "execution_count": null,
   "metadata": {},
   "outputs": [],
   "source": [
    "import tqdm\n",
    "\n",
    "offset = 12\n",
    "\n",
    "with tqdm.trange(20) as itr:\n",
    "    pres = []\n",
    "    mres = []\n",
    "    for i in itr:\n",
    "        rng = np.random.RandomState(seed=i+offset)\n",
    "        mbobs = Sim(rng, config={'g1': 0.02}).get_mbobs()\n",
    "        md = Metadetect(config, mbobs, rng)\n",
    "        md.go()\n",
    "        pres.append(_meas_shear(md.result))\n",
    "\n",
    "        rng = np.random.RandomState(seed=i+offset)\n",
    "        mbobs = Sim(rng, config={'g1': -0.02}).get_mbobs()\n",
    "        md = Metadetect(config, mbobs, rng)\n",
    "        md.go()\n",
    "        mres.append(_meas_shear(md.result))"
   ]
  },
  {
   "cell_type": "code",
   "execution_count": null,
   "metadata": {},
   "outputs": [],
   "source": [
    "print(\"m: %f +/- %f\" % _fit_m(pres, mres))"
   ]
  }
 ],
 "metadata": {
  "kernelspec": {
   "display_name": "Python 3",
   "language": "python",
   "name": "python3"
  },
  "language_info": {
   "codemirror_mode": {
    "name": "ipython",
    "version": 3
   },
   "file_extension": ".py",
   "mimetype": "text/x-python",
   "name": "python",
   "nbconvert_exporter": "python",
   "pygments_lexer": "ipython3",
   "version": "3.6.7"
  }
 },
 "nbformat": 4,
 "nbformat_minor": 2
}
