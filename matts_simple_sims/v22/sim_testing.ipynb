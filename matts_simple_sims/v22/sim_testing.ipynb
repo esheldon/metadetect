{
 "cells": [
  {
   "cell_type": "code",
   "execution_count": 1,
   "metadata": {},
   "outputs": [],
   "source": [
    "import numpy as np\n",
    "import matplotlib.pyplot as plt\n",
    "import seaborn as sns\n",
    "\n",
    "%load_ext autoreload\n",
    "\n",
    "%autoreload 2\n",
    "\n",
    "%matplotlib notebook\n",
    "sns.set()"
   ]
  },
  {
   "cell_type": "code",
   "execution_count": 2,
   "metadata": {},
   "outputs": [],
   "source": [
    "import galsim\n",
    "from des_psf import DESPSF"
   ]
  },
  {
   "cell_type": "code",
   "execution_count": 3,
   "metadata": {},
   "outputs": [],
   "source": [
    "rng = np.random.RandomState(seed=10)"
   ]
  },
  {
   "cell_type": "code",
   "execution_count": 4,
   "metadata": {},
   "outputs": [],
   "source": [
    "psf = DESPSF(rng, 225*0.263)"
   ]
  },
  {
   "cell_type": "code",
   "execution_count": null,
   "metadata": {},
   "outputs": [],
   "source": [
    "import tqdm\n",
    "\n",
    "im_size = 2*225*0.263\n",
    "\n",
    "psf = DESPSF(np.random.RandomState(), im_size)\n",
    "\n",
    "n = 20\n",
    "fwhm = np.zeros((n, n))\n",
    "g1 = np.zeros((n, n))\n",
    "g2 = np.zeros((n, n))\n",
    "\n",
    "for j, x in tqdm.tqdm(enumerate(np.linspace(-30, 30, n))):\n",
    "    for i, y in enumerate(np.linspace(-30, 30, n)):\n",
    "        pos = galsim.PositionD(x=x, y=y)\n",
    "        _psf = psf.getPSF(pos)\n",
    "        mom = galsim.hsm.FindAdaptiveMom(_psf.drawImage(scale=0.263, nx=33, ny=33))\n",
    "        fwhm[i, j] = _psf.calculateFWHM()\n",
    "        g1[i, j] = mom.observed_shape.g1\n",
    "        g2[i, j] = mom.observed_shape.g2"
   ]
  },
  {
   "cell_type": "code",
   "execution_count": 14,
   "metadata": {},
   "outputs": [
    {
     "data": {
      "image/png": "[encoded data removed]",
      "text/plain": [
       "<Figure size 504x432 with 7 Axes>"
      ]
     },
     "metadata": {
      "needs_background": "light"
     },
     "output_type": "display_data"
    }
   ],
   "source": [
    "fig, axs = plt.subplots(nrows=2, ncols=2, figsize=(7, 6))\n",
    "\n",
    "xt = []\n",
    "for i, _x in enumerate(np.linspace(-im_size/2, im_size/2, n)):\n",
    "    if i % 4 == 0 or i == 0 or i == n - 1:\n",
    "        xt.append(\"%0.0f\" % _x)\n",
    "    else:\n",
    "        xt.append('')\n",
    "\n",
    "ax = axs[0, 0]\n",
    "sns.heatmap(\n",
    "    fwhm, \n",
    "    ax=ax,\n",
    "    square=True,\n",
    "    xticklabels=xt,\n",
    "    yticklabels=xt)\n",
    "ax.set_xlabel('column [arcsec]')\n",
    "ax.set_ylabel('row [arcsec]')\n",
    "ax.set_title('FWHM')\n",
    "\n",
    "ax = axs[0, 1]\n",
    "ax.axis('off')\n",
    "\n",
    "ax = axs[1, 0]\n",
    "sns.heatmap(\n",
    "    g1, \n",
    "    ax=ax, \n",
    "    square=True,\n",
    "    xticklabels=xt,\n",
    "    yticklabels=xt)\n",
    "ax.set_xlabel('column [arcsec]')\n",
    "ax.set_ylabel('row [arcsec]')\n",
    "ax.set_title('g1')\n",
    "\n",
    "ax = axs[1, 1]\n",
    "sns.heatmap(\n",
    "    g2, \n",
    "    ax=ax, \n",
    "    square=True,\n",
    "    xticklabels=xt,\n",
    "    yticklabels=xt)\n",
    "ax.set_xlabel('column [arcsec]')\n",
    "ax.set_ylabel('row [arcsec]')\n",
    "ax.set_title('g2')\n",
    "\n",
    "plt.tight_layout()\n",
    "\n",
    "plt.savefig('/Users/Matt/Desktop/psf.png')"
   ]
  },
  {
   "cell_type": "code",
   "execution_count": null,
   "metadata": {},
   "outputs": [],
   "source": []
  },
  {
   "cell_type": "code",
   "execution_count": null,
   "metadata": {},
   "outputs": [],
   "source": []
  },
  {
   "cell_type": "code",
   "execution_count": null,
   "metadata": {},
   "outputs": [],
   "source": []
  },
  {
   "cell_type": "code",
   "execution_count": null,
   "metadata": {},
   "outputs": [],
   "source": []
  },
  {
   "cell_type": "code",
   "execution_count": null,
   "metadata": {},
   "outputs": [],
   "source": []
  },
  {
   "cell_type": "code",
   "execution_count": null,
   "metadata": {},
   "outputs": [],
   "source": []
  },
  {
   "cell_type": "code",
   "execution_count": null,
   "metadata": {},
   "outputs": [],
   "source": [
    "fig, axs = plt.subplots(nrows=1, ncols=2, figsize=(12, 6))\n",
    "\n",
    "n = 64\n",
    "g1 = np.zeros((n, n))\n",
    "g2 = np.zeros((n, n))\n",
    "\n",
    "for j, x in enumerate(np.linspace(-30, 30, n)):\n",
    "    for i, y in enumerate(np.linspace(-30, 30, n)):\n",
    "        _g1, _g2 = psf._ps.getShear((x, y))\n",
    "        g1[i, j] = _g1\n",
    "        g2[i, j] = _g2\n",
    "\n",
    "        \n",
    "ticks = [-225*0.263/2, 0, 225*0.263/2]\n",
    "ax = axs[0]\n",
    "sns.heatmap(\n",
    "    g1, \n",
    "    ax=ax)\n",
    "ax.set_title('g1')\n",
    "\n",
    "ax = axs[1]\n",
    "sns.heatmap(\n",
    "    g2, \n",
    "    ax=ax)\n",
    "ax.set_title('g2')\n",
    "\n",
    "plt.tight_layout()"
   ]
  },
  {
   "cell_type": "code",
   "execution_count": null,
   "metadata": {},
   "outputs": [],
   "source": []
  },
  {
   "cell_type": "code",
   "execution_count": null,
   "metadata": {},
   "outputs": [],
   "source": []
  },
  {
   "cell_type": "code",
   "execution_count": null,
   "metadata": {},
   "outputs": [],
   "source": []
  },
  {
   "cell_type": "code",
   "execution_count": null,
   "metadata": {},
   "outputs": [],
   "source": [
    "_psf = psf.getPSF(galsim.PositionD(1, -1))"
   ]
  },
  {
   "cell_type": "code",
   "execution_count": null,
   "metadata": {},
   "outputs": [],
   "source": [
    "mom = galsim.hsm.FindAdaptiveMom(_psf.drawImage(scale=0.263, nx=33, ny=33))\n",
    "print(_psf.calculateFWHM(), mom.observed_shape.g1, mom.observed_shape.g1)"
   ]
  },
  {
   "cell_type": "code",
   "execution_count": null,
   "metadata": {},
   "outputs": [],
   "source": [
    "plt.figure(figsize=(10, 10))\n",
    "ax = plt.gca()\n",
    "ax.imshow(np.arcsinh(_psf.drawImage(nx=33, ny=33, scale=0.263).array))\n",
    "ax.grid(False)"
   ]
  },
  {
   "cell_type": "code",
   "execution_count": 8,
   "metadata": {},
   "outputs": [
    {
     "data": {
      "image/png": "[encoded data removed]",
      "text/plain": [
       "<Figure size 864x864 with 7 Axes>"
      ]
     },
     "metadata": {
      "needs_background": "light"
     },
     "output_type": "display_data"
    }
   ],
   "source": [
    "import tqdm\n",
    "\n",
    "psf = DESPSF(np.random.RandomState(), 225*0.263)\n",
    "\n",
    "n = 20\n",
    "fwhm = np.zeros((n, n))\n",
    "g1 = np.zeros((n, n))\n",
    "g2 = np.zeros((n, n))\n",
    "\n",
    "for j, x in tqdm.tqdm(enumerate(np.linspace(-30, 30, n))):\n",
    "    for i, y in enumerate(np.linspace(-30, 30, n)):\n",
    "        pos = galsim.PositionD(x=x, y=y)\n",
    "        _psf = psf.getPSF(pos)\n",
    "        mom = galsim.hsm.FindAdaptiveMom(_psf.drawImage(scale=0.263, nx=33, ny=33))\n",
    "        fwhm[i, j] = _psf.calculateFWHM()\n",
    "        g1[i, j] = mom.observed_shape.g1\n",
    "        g2[i, j] = mom.observed_shape.g2\n",
    "\n",
    "fig, axs = plt.subplots(nrows=2, ncols=2, figsize=(12, 12))\n",
    "\n",
    "ax = axs[0, 0]\n",
    "sns.heatmap(\n",
    "    fwhm, \n",
    "    ax=ax, \n",
    "    xticklabels=[\"%0.2f\" % _x for _x in np.linspace(-30, 30, n)],\n",
    "    yticklabels=[\"%0.2f\" % _x for _x in np.linspace(-30, 30, n)])\n",
    "ax.set_title('FWHM')\n",
    "\n",
    "ax = axs[0, 1]\n",
    "ax.axis('off')\n",
    "\n",
    "ax = axs[1, 0]\n",
    "sns.heatmap(\n",
    "    g1, \n",
    "    ax=ax, \n",
    "    xticklabels=[\"%0.2f\" % _x for _x in np.linspace(-30, 30, n)],\n",
    "    yticklabels=[\"%0.2f\" % _x for _x in np.linspace(-30, 30, n)])\n",
    "ax.set_title('g1')\n",
    "\n",
    "ax = axs[1, 1]\n",
    "sns.heatmap(\n",
    "    g2, \n",
    "    ax=ax, \n",
    "    xticklabels=[\"%0.2f\" % _x for _x in np.linspace(-30, 30, n)],\n",
    "    yticklabels=[\"%0.2f\" % _x for _x in np.linspace(-30, 30, n)])\n",
    "ax.set_title('g2')\n",
    "\n",
    "plt.tight_layout()"
   ]
  },
  {
   "cell_type": "code",
   "execution_count": null,
   "metadata": {},
   "outputs": [],
   "source": [
    "plt.figure()\n",
    "sns.heatmap(psf._ps.im_g2.array)"
   ]
  },
  {
   "cell_type": "code",
   "execution_count": null,
   "metadata": {},
   "outputs": [],
   "source": []
  },
  {
   "cell_type": "code",
   "execution_count": null,
   "metadata": {},
   "outputs": [],
   "source": [
    "im1 = psf.drawImage(scale=pixel_scale)\n",
    "im2 = psf.shift(galsim.PositionD(x=10, y=10)).drawImage(scale=pixel_scale)\n",
    "im3 = psf.drawImage(offset=galsim.PositionD(5, 5), scale=pixel_scale)"
   ]
  },
  {
   "cell_type": "code",
   "execution_count": null,
   "metadata": {},
   "outputs": [],
   "source": [
    "fig, axs = plt.subplots(nrows=1, ncols=3, figsize=(15, 5))\n",
    "\n",
    "ax = axs[0]\n",
    "ax.imshow(im1.array)\n",
    "ax.grid(False)\n",
    "\n",
    "ax = axs[1]\n",
    "ax.imshow(im2.array)\n",
    "ax.grid(False)\n",
    "\n",
    "ax = axs[2]\n",
    "ax.imshow(im3.array)\n",
    "ax.grid(False)"
   ]
  },
  {
   "cell_type": "code",
   "execution_count": null,
   "metadata": {},
   "outputs": [],
   "source": [
    "psf.calculateFWHM()"
   ]
  },
  {
   "cell_type": "code",
   "execution_count": null,
   "metadata": {},
   "outputs": [],
   "source": []
  },
  {
   "cell_type": "code",
   "execution_count": null,
   "metadata": {},
   "outputs": [],
   "source": []
  },
  {
   "cell_type": "code",
   "execution_count": null,
   "metadata": {},
   "outputs": [],
   "source": [
    "from test_sim_utils import Sim, TEST_METADETECT_CONFIG"
   ]
  },
  {
   "cell_type": "code",
   "execution_count": null,
   "metadata": {},
   "outputs": [],
   "source": [
    "from metadetect.metadetect_and_cal import MetadetectAndCal\n",
    "from metadetect.metadetect import Metadetect\n",
    "\n",
    "config = {}\n",
    "config.update(TEST_METADETECT_CONFIG)"
   ]
  },
  {
   "cell_type": "code",
   "execution_count": null,
   "metadata": {},
   "outputs": [],
   "source": []
  },
  {
   "cell_type": "code",
   "execution_count": null,
   "metadata": {},
   "outputs": [],
   "source": [
    "rng = np.random.RandomState(seed=0)\n",
    "sim = Sim(rng, config={'g1': 0.02})"
   ]
  },
  {
   "cell_type": "code",
   "execution_count": null,
   "metadata": {},
   "outputs": [],
   "source": [
    "mbobs = sim.get_mbobs()\n",
    "# md = Metadetect(config, mbobs, rng)\n",
    "# md.go()"
   ]
  },
  {
   "cell_type": "code",
   "execution_count": null,
   "metadata": {},
   "outputs": [],
   "source": [
    "plt.figure(figsize=(6, 6))\n",
    "ax = plt.gca()\n",
    "plt.imshow(np.arcsinh(mbobs[0][0].image))\n",
    "ax.grid(False)\n",
    "ax.set_xlabel('column')\n",
    "ax.set_ylabel('row')\n",
    "plt.savefig('example.pdf')\n",
    "\n",
    "# plt.plot(md.result['noshear']['sx_col'], md.result['noshear']['sx_row'], 'ob')\n",
    "\n",
    "# print(len(md.result['noshear']['sx_col']))"
   ]
  },
  {
   "cell_type": "code",
   "execution_count": null,
   "metadata": {},
   "outputs": [],
   "source": [
    "import galsim\n",
    "\n",
    "image = galsim.ImageD(33, 33, wcs=galsim.PixelScale(0.263))\n",
    "im = sim._psf.draw(x=int(45.2+0.5), y=int(67.7+0.5), image=image)"
   ]
  },
  {
   "cell_type": "code",
   "execution_count": null,
   "metadata": {},
   "outputs": [],
   "source": [
    "plt.figure(figsize=(10, 10))\n",
    "ax = plt.gca()\n",
    "ax.imshow(im.array)\n",
    "ax.grid(False)"
   ]
  },
  {
   "cell_type": "code",
   "execution_count": null,
   "metadata": {},
   "outputs": [],
   "source": []
  },
  {
   "cell_type": "code",
   "execution_count": null,
   "metadata": {},
   "outputs": [],
   "source": []
  },
  {
   "cell_type": "code",
   "execution_count": null,
   "metadata": {},
   "outputs": [],
   "source": [
    "def _meas_shear(res):\n",
    "    op = res['1p']\n",
    "    q = (op['flags'] == 0) & (op['wmom_s2n'] > 10) & (op['wmom_T_ratio'] > 1.2)\n",
    "    g1p = op['wmom_g'][q, 0]\n",
    "    \n",
    "    om = res['1m']\n",
    "    q = (om['flags'] == 0) & (om['wmom_s2n'] > 10) & (om['wmom_T_ratio'] > 1.2)\n",
    "    g1m = om['wmom_g'][q, 0]\n",
    "    \n",
    "    o = res['noshear']\n",
    "    q = (o['flags'] == 0) & (o['wmom_s2n'] > 10) & (o['wmom_T_ratio'] > 1.2)\n",
    "    g1 = o['wmom_g'][q, 0]\n",
    "    \n",
    "    return g1p, g1m, g1\n",
    "\n",
    "from scipy.optimize import curve_fit\n",
    "\n",
    "def _get_stuff(rr):\n",
    "    g1p = np.array([np.mean(r[0]) for r in rr])\n",
    "    g1m = np.array([np.mean(r[1]) for r in rr])\n",
    "    g1 = np.array([np.mean(r[2]) for r in rr])\n",
    "    \n",
    "    return g1, (g1p - g1m) / 2 / 0.01 * 0.02\n",
    "\n",
    "def _fit_m(prr, mrr):\n",
    "    g1p, R11p = _get_stuff(prr)\n",
    "    g1m, R11m = _get_stuff(mrr)\n",
    "    \n",
    "    x = R11p + R11m\n",
    "    y = g1p - g1m\n",
    "    \n",
    "    fres = curve_fit(lambda x, m: (1 + m) * x, x, y, [0])\n",
    "    return fres[0][0], np.sqrt(fres[1][0, 0])"
   ]
  },
  {
   "cell_type": "code",
   "execution_count": null,
   "metadata": {},
   "outputs": [],
   "source": [
    "import tqdm\n",
    "\n",
    "offset = 12\n",
    "\n",
    "with tqdm.trange(20) as itr:\n",
    "    pres = []\n",
    "    mres = []\n",
    "    for i in itr:\n",
    "        rng = np.random.RandomState(seed=i+offset)\n",
    "        mbobs = Sim(rng, config={'g1': 0.02}).get_mbobs()\n",
    "        md = Metadetect(config, mbobs, rng)\n",
    "        md.go()\n",
    "        pres.append(_meas_shear(md.result))\n",
    "\n",
    "        rng = np.random.RandomState(seed=i+offset)\n",
    "        mbobs = Sim(rng, config={'g1': -0.02}).get_mbobs()\n",
    "        md = Metadetect(config, mbobs, rng)\n",
    "        md.go()\n",
    "        mres.append(_meas_shear(md.result))"
   ]
  },
  {
   "cell_type": "code",
   "execution_count": null,
   "metadata": {},
   "outputs": [],
   "source": [
    "print(\"m: %f +/- %f\" % _fit_m(pres, mres))"
   ]
  }
 ],
 "metadata": {
  "kernelspec": {
   "display_name": "Python 3",
   "language": "python",
   "name": "python3"
  },
  "language_info": {
   "codemirror_mode": {
    "name": "ipython",
    "version": 3
   },
   "file_extension": ".py",
   "mimetype": "text/x-python",
   "name": "python",
   "nbconvert_exporter": "python",
   "pygments_lexer": "ipython3",
   "version": "3.6.7"
  }
 },
 "nbformat": 4,
 "nbformat_minor": 2
}
